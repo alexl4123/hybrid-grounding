{
 "cells": [
  {
   "cell_type": "markdown",
   "id": "62c1a6c1",
   "metadata": {},
   "source": [
    "# Load all files"
   ]
  },
  {
   "cell_type": "code",
   "execution_count": 87,
   "id": "c4cd8e7f",
   "metadata": {},
   "outputs": [],
   "source": [
    "import os\n",
    "import re\n",
    "import csv\n",
    "\n",
    "import pandas\n",
    "import matplotlib.pyplot as plt"
   ]
  },
  {
   "cell_type": "code",
   "execution_count": 3,
   "id": "7108673b",
   "metadata": {},
   "outputs": [],
   "source": [
    "rootdir = \"./\""
   ]
  },
  {
   "cell_type": "code",
   "execution_count": 4,
   "id": "fe5e02d3",
   "metadata": {},
   "outputs": [],
   "source": [
    "problem_dir = {}"
   ]
  },
  {
   "cell_type": "code",
   "execution_count": 5,
   "id": "e47c77c8",
   "metadata": {},
   "outputs": [],
   "source": [
    "problems = [\"count\",\"max\",\"min\"]\n",
    "sub_problems = [\"light-head-3\",\"light-head-9\",\"heavy-head-3\",\"heavy-head-9\"]\n",
    "strategies = [\"no-body\",\"rewrite\",\"replace\"]"
   ]
  },
  {
   "cell_type": "code",
   "execution_count": 6,
   "id": "02f0f1bb",
   "metadata": {},
   "outputs": [],
   "source": [
    "for problem in problems:\n",
    "    problem_dir[problem] = {}\n",
    "    problem_dir[problem][\"regex\"] = regex = re.compile(f'.*{problem}.*')\n",
    "    problem_dir[problem][\"sub_problems\"] = {}\n",
    "    for sub_problem in sub_problems:\n",
    "        sub_problem_dir = {}\n",
    "        sub_problem_dir[\"regex\"] = re.compile(f'.*{sub_problem}.*')\n",
    "        sub_problem_dir[\"strategies\"] = {}\n",
    "        \n",
    "        problem_dir[problem][\"sub_problems\"][sub_problem] = sub_problem_dir\n",
    "        \n",
    "        \n",
    "        for strategy in strategies:\n",
    "            strategy_dir = {}\n",
    "            strategy_dir = {}\n",
    "            strategy_dir[\"regex\"] = re.compile(f'.*{strategy}.*')\n",
    "            strategy_dir[\"file_names\"] = []\n",
    "            \n",
    "            problem_dir[problem][\"sub_problems\"][sub_problem][\"strategies\"][strategy] = strategy_dir\n",
    "            "
   ]
  },
  {
   "cell_type": "code",
   "execution_count": 7,
   "id": "0ec1d1d1",
   "metadata": {},
   "outputs": [
    {
     "name": "stdout",
     "output_type": "stream",
     "text": [
      ">>count>>light-head-3>>rewrite\n",
      "05-count-rewrite-light-head-3_grounding_time.csv\n",
      ">>min>>heavy-head-9>>no-body\n",
      "20-min-no-body-clique-heavy-head-9_grounding_size.csv\n",
      ">>min>>heavy-head-3>>no-body\n",
      "19-min-no-body-clique-heavy-head-3_grounding_time.csv\n",
      ">>max>>heavy-head-9>>no-body\n",
      "16-max-no-body-clique-heavy-head-9_grounding_time.csv\n",
      ">>max>>heavy-head-9>>no-body\n",
      "16-max-no-body-clique-heavy-head-9_total_time.csv\n",
      ">>count>>heavy-head-3>>replace\n",
      "11-count-replace-heavy-head-3_grounding_size.csv\n",
      ">>max>>heavy-head-3>>no-body\n",
      "15-max-no-body-clique-heavy-head-3_grounding_size.csv\n",
      ">>count>>heavy-head-3>>replace\n",
      "11-count-replace-heavy-head-3_total_time.csv\n",
      ">>count>>heavy-head-3>>no-body\n",
      "03-count-no-body-clique-heavy-head-3_grounding_time.csv\n",
      ">>count>>light-head-9>>rewrite\n",
      "06-count-rewrite-light-head-9_total_time.csv\n",
      ">>count>>light-head-9>>replace\n",
      "10-count-replace-light-head-9_grounding_size.csv\n",
      ">>count>>light-head-3>>replace\n",
      "09-count-replace-light-head-3_total_time.csv\n",
      ">>max>>heavy-head-3>>no-body\n",
      "15-max-no-body-clique-heavy-head-3_total_time.csv\n",
      ">>min>>heavy-head-9>>no-body\n",
      "20-min-no-body-clique-heavy-head-9_grounding_time.csv\n",
      ">>count>>heavy-head-3>>rewrite\n",
      "07-count-rewrite-heavy-head-3_total_time.csv\n",
      ">>count>>heavy-head-9>>replace\n",
      "12-count-replace-heavy-head-9_grounding_time.csv\n",
      ">>max>>light-head-9>>no-body\n",
      "14-max-no-body-clique-light-head-9_total_time.csv\n",
      ">>max>>light-head-3>>no-body\n",
      "13-max-no-body-clique-light-head-3_grounding_time.csv\n",
      ">>count>>light-head-3>>no-body\n",
      "01-count-no-body-clique-light-head-3_total_time.csv\n",
      ">>min>>heavy-head-9>>no-body\n",
      "20-min-no-body-clique-heavy-head-9_total_time.csv\n",
      ">>min>>light-head-9>>no-body\n",
      "18-min-no-body-clique-light-head-9_grounding_size.csv\n",
      ">>min>>light-head-3>>no-body\n",
      "17-min-no-body-clique-light-head-3_grounding_size.csv\n",
      ">>count>>heavy-head-9>>no-body\n",
      "04-count-no-body-clique-heavy-head-9_grounding_size.csv\n",
      ">>max>>light-head-9>>no-body\n",
      "14-max-no-body-clique-light-head-9_grounding_time.csv\n",
      ">>count>>light-head-3>>no-body\n",
      "01-count-no-body-clique-light-head-3_grounding_size.csv\n",
      ">>count>>light-head-3>>replace\n",
      "09-count-replace-light-head-3_grounding_time.csv\n",
      ">>count>>heavy-head-3>>no-body\n",
      "03-count-no-body-clique-heavy-head-3_total_time.csv\n",
      ">>count>>heavy-head-9>>replace\n",
      "12-count-replace-heavy-head-9_total_time.csv\n",
      ">>count>>light-head-3>>rewrite\n",
      "05-count-rewrite-light-head-3_grounding_size.csv\n",
      ">>count>>light-head-9>>no-body\n",
      "02-count-no-body-clique-light-head-9_grounding_size.csv\n",
      ">>count>>light-head-3>>no-body\n",
      "01-count-no-body-clique-light-head-3_grounding_time.csv\n",
      ">>count>>light-head-9>>rewrite\n",
      "06-count-rewrite-light-head-9_grounding_time.csv\n",
      ">>min>>light-head-9>>no-body\n",
      "18-min-no-body-clique-light-head-9_grounding_time.csv\n",
      ">>min>>light-head-9>>no-body\n",
      "18-min-no-body-clique-light-head-9_total_time.csv\n",
      ">>count>>heavy-head-9>>no-body\n",
      "04-count-no-body-clique-heavy-head-9_grounding_time.csv\n",
      ">>count>>heavy-head-3>>replace\n",
      "11-count-replace-heavy-head-3_grounding_time.csv\n",
      ">>count>>light-head-9>>no-body\n",
      "02-02-count-no-body-clique-light-head-9_grounding_time.csv\n",
      ">>count>>light-head-9>>no-body\n",
      "02-count-no-body-clique-light-head-9_total_time.csv\n",
      ">>count>>light-head-3>>replace\n",
      "09-count-replace-light-head-3_grounding_size.csv\n",
      ">>count>>light-head-9>>replace\n",
      "10-count-replace-light-head-9_total_time.csv\n",
      ">>count>>light-head-3>>rewrite\n",
      "05-count-rewrite-light-head-3_total_time.csv\n",
      ">>count>>light-head-9>>rewrite\n",
      "06-count-rewrite-light-head-9_grounding_size.csv\n",
      ">>count>>heavy-head-3>>rewrite\n",
      "07-count-rewrite-heavy-head-3_grounding_time.csv\n",
      ">>count>>heavy-head-9>>rewrite\n",
      "08-count-rewrite-heavy-head-9_grounding_time.csv\n",
      ">>min>>light-head-3>>no-body\n",
      "17-min-no-body-clique-light-head-3_total_time.csv\n",
      ">>count>>heavy-head-9>>rewrite\n",
      "08-count-rewrite-heavy-head-9_grounding_size.csv\n",
      ">>count>>heavy-head-9>>rewrite\n",
      "08-count-rewrite-heavy-head-9_total_time.csv\n",
      ">>count>>light-head-9>>no-body\n",
      "02-02-count-no-body-clique-light-head-9_total_time.csv\n",
      ">>count>>light-head-9>>no-body\n",
      "02-count-no-body-clique-light-head-9_grounding_time.csv\n",
      ">>count>>heavy-head-3>>rewrite\n",
      "07-count-rewrite-heavy-head-3_grounding_size.csv\n",
      ">>max>>light-head-3>>no-body\n",
      "13-max-no-body-clique-light-head-3_grounding_size.csv\n",
      ">>count>>light-head-9>>no-body\n",
      "02-02-count-no-body-clique-light-head-9_grounding_size.csv\n",
      ">>min>>heavy-head-3>>no-body\n",
      "19-min-no-body-clique-heavy-head-3_grounding_size.csv\n",
      ">>max>>light-head-3>>no-body\n",
      "13-max-no-body-clique-light-head-3_total_time.csv\n",
      ">>max>>heavy-head-3>>no-body\n",
      "15-max-no-body-clique-heavy-head-3_grounding_time.csv\n",
      ">>min>>light-head-3>>no-body\n",
      "17-min-no-body-clique-light-head-3_grounding_time.csv\n",
      ">>count>>heavy-head-3>>no-body\n",
      "03-count-no-body-clique-heavy-head-3_grounding_size.csv\n",
      ">>count>>heavy-head-9>>replace\n",
      "12-count-replace-heavy-head-9_grounding_size.csv\n",
      ">>count>>light-head-9>>replace\n",
      "10-count-replace-light-head-9_grounding_time.csv\n",
      ">>count>>heavy-head-9>>no-body\n",
      "04-count-no-body-clique-heavy-head-9_total_time.csv\n",
      ">>min>>heavy-head-3>>no-body\n",
      "19-min-no-body-clique-heavy-head-3_total_time.csv\n",
      ">>max>>heavy-head-9>>no-body\n",
      "16-max-no-body-clique-heavy-head-9_grounding_size.csv\n",
      ">>max>>light-head-9>>no-body\n",
      "14-max-no-body-clique-light-head-9_grounding_size.csv\n"
     ]
    }
   ],
   "source": [
    "\n",
    "for root, dirs, files in os.walk(rootdir):\n",
    "    for file in files:\n",
    "        \n",
    "        for problem in problems:\n",
    "            if problem in str(file):\n",
    "                for sub_problem in sub_problems:\n",
    "                    if sub_problem in str(file):\n",
    "                        for strategy in strategies:\n",
    "                            if strategy in str(file):\n",
    "                                print(f\">>{problem}>>{sub_problem}>>{strategy}\")\n",
    "                                print(file)\n",
    "                                \n",
    "                                problem_dir[problem][\"sub_problems\"][sub_problem][\"strategies\"][strategy][\"file_names\"].append(str(file))\n",
    "                                \n",
    "        \n",
    "\n"
   ]
  },
  {
   "cell_type": "code",
   "execution_count": 15,
   "id": "e49a0114",
   "metadata": {},
   "outputs": [],
   "source": [
    "problem = \"count\"\n",
    "sub_problem = \"light-head-3\"\n",
    "\n",
    "dir_ = problem_dir[problem][\"sub_problems\"][sub_problem]\n",
    "\n",
    "total_time_files = []\n",
    "grounding_time_files = []\n",
    "grounding_size_files = []\n",
    "\n",
    "for strategy in strategies:\n",
    "    files = dir_[\"strategies\"][strategy][\"file_names\"]\n",
    "    \n",
    "    for file in files:\n",
    "        if \"total_time\" in file:\n",
    "            total_time_files.append((strategy,file))\n",
    "        elif \"grounding_time\" in file:\n",
    "            grounding_time_files.append((strategy,file))\n",
    "        elif \"grounding_size\" in file:\n",
    "            grounding_size_files.append((strategy,file))\n",
    "        else: \n",
    "            assert(False)"
   ]
  },
  {
   "cell_type": "markdown",
   "id": "148197a3",
   "metadata": {},
   "source": [
    "# Final plotting code"
   ]
  },
  {
   "cell_type": "code",
   "execution_count": 133,
   "id": "a579ddb5",
   "metadata": {},
   "outputs": [],
   "source": [
    "\n",
    "def plotting_code(files, title_prefix, image_prefix, y_axis_label):\n",
    "    ds = []\n",
    "\n",
    "    data_frame_strategy = None\n",
    "    data_frame = None\n",
    "\n",
    "    for strategy, file in files:\n",
    "        data = pandas.read_csv(file, delimiter=',')\n",
    "\n",
    "        rename_dir = {}\n",
    "        for col in data.columns:\n",
    "            if str(col) == \"newground-duration\":\n",
    "                rename_dir[col] = f\"{strategy.replace('-','_')}\"\n",
    "            if str(col) == \"newground-timeout-occured\":\n",
    "                rename_dir[col] = f\"{strategy.replace('-','_')}_timeout_occured\"\n",
    "            if str(col) == \"gringo-duration\":\n",
    "                rename_dir[col] = f\"gringo\"\n",
    "            if str(col) == \"idlv-duration\":\n",
    "                rename_dir[col] = f\"idlv\"\n",
    "                \n",
    "            if str(col) == \"newground-size\":\n",
    "                rename_dir[col] = f\"{strategy.replace('-','_')}\"\n",
    "\n",
    "            if str(col) == \"gringo-size\":\n",
    "                rename_dir[col] = f\"gringo\"\n",
    "            if str(col) == \"idlv-size\":\n",
    "                rename_dir[col] = f\"idlv\"\n",
    "\n",
    "            # TODO -> Add different stuff for grounding-size\n",
    "\n",
    "        data.rename(columns = rename_dir, inplace = True)\n",
    "\n",
    "        if data_frame is None:\n",
    "            data_frame_strategy = strategy\n",
    "            data_frame = pandas.DataFrame(data)\n",
    "        else:\n",
    "            data_frame[strategy] = data[strategy]\n",
    "            data_frame[f\"{strategy}_timeout_occured\"] = data[f\"{strategy}_timeout_occured\"]\n",
    "\n",
    "    # ---- (Why is this red?)\n",
    "    # Instances to integers (for plotting)\n",
    "    for instance in data_frame.instance:\n",
    "        data_frame.loc[data_frame.instance == instance, 'instance'] = int((str(instance).split(\"_\"))[1].split(\".\")[0])\n",
    "\n",
    "    x = list(data_frame.instance)\n",
    "    gringo = list(data_frame.gringo)\n",
    "    idlv = list(data_frame.idlv)\n",
    "    no_body = list(data_frame.no_body)\n",
    "    rewrite = list(data_frame.rewrite)\n",
    "    replace = list(data_frame[\"replace\"])\n",
    "\n",
    "    fig, ax = plt.subplots()\n",
    "\n",
    "    ax.plot(x, gringo, label = \"gringo\")\n",
    "    ax.plot(x, idlv, label = \"idlv\")\n",
    "    ax.plot(x, no_body, label = \"no-body-rewrite\")\n",
    "    ax.plot(x, rewrite, label = \"rewrite\")\n",
    "    ax.plot(x, replace, label = \"replace\")\n",
    "    ax.set_xlabel(\"Instance Size\")\n",
    "    ax.set_ylabel(y_axis_label)\n",
    "    ax.legend()\n",
    "    ax.set_title(f\"{title_prefix} {problem} {sub_problem}\")\n",
    "\n",
    "    fig.savefig(f\"images/{image_prefix}_{problem}_{sub_problem}.png\", dpi=500)\n",
    "    plt.show()"
   ]
  },
  {
   "cell_type": "code",
   "execution_count": 134,
   "id": "12b2d952",
   "metadata": {},
   "outputs": [
    {
     "data": {
      "image/png": "[encoded data removed]",
      "text/plain": [
       "<Figure size 432x288 with 1 Axes>"
      ]
     },
     "metadata": {
      "needs_background": "light"
     },
     "output_type": "display_data"
    }
   ],
   "source": [
    "plotting_code(total_time_files, \"Total Time\", \"total_time\", \"Time (s)\")\n"
   ]
  },
  {
   "cell_type": "code",
   "execution_count": 135,
   "id": "42334214",
   "metadata": {},
   "outputs": [
    {
     "data": {
      "image/png": "[encoded data removed]",
      "text/plain": [
       "<Figure size 432x288 with 1 Axes>"
      ]
     },
     "metadata": {
      "needs_background": "light"
     },
     "output_type": "display_data"
    }
   ],
   "source": [
    "plotting_code(grounding_time_files, \"Grounding Time\", \"grounding_time\", \"Time (s)\")\n"
   ]
  },
  {
   "cell_type": "code",
   "execution_count": 136,
   "id": "7a4a8977",
   "metadata": {},
   "outputs": [
    {
     "data": {
      "image/png": "[encoded data removed]",
      "text/plain": [
       "<Figure size 432x288 with 1 Axes>"
      ]
     },
     "metadata": {
      "needs_background": "light"
     },
     "output_type": "display_data"
    }
   ],
   "source": [
    "plotting_code(grounding_size_files, \"Grounding Time\", \"grounding_size\", \"Size (KB)\")"
   ]
  },
  {
   "cell_type": "code",
   "execution_count": 10,
   "id": "d3aaf2fa",
   "metadata": {},
   "outputs": [
    {
     "data": {
      "text/plain": [
       "'\\nregex = re.compile(\\'.*-rewrite-no-body-.*\\')\\n\\nfor root, dirs, files in os.walk(rootdir):\\n    for file in files:\\n        \\n        if regex.match(file):\\n            splits = str(file).split(\"rewrite-no-body\")\\n            new_name = f\"{splits[0]}no-body{splits[1]}\"\\n\\n            os.rename(str(file),new_name)\\n'"
      ]
     },
     "execution_count": 10,
     "metadata": {},
     "output_type": "execute_result"
    }
   ],
   "source": [
    "# THE FOLLOWING CODE SNIPPET RENAMES 'rewrite-no-body' files to 'no-body'\n",
    "\"\"\"\n",
    "regex = re.compile('.*-rewrite-no-body-.*')\n",
    "\n",
    "for root, dirs, files in os.walk(rootdir):\n",
    "    for file in files:\n",
    "        \n",
    "        if regex.match(file):\n",
    "            splits = str(file).split(\"rewrite-no-body\")\n",
    "            new_name = f\"{splits[0]}no-body{splits[1]}\"\n",
    "\n",
    "            os.rename(str(file),new_name)\n",
    "\"\"\""
   ]
  },
  {
   "cell_type": "code",
   "execution_count": null,
   "id": "342e2152",
   "metadata": {},
   "outputs": [],
   "source": []
  }
 ],
 "metadata": {
  "kernelspec": {
   "display_name": "Python 3 (ipykernel)",
   "language": "python",
   "name": "python3"
  },
  "language_info": {
   "codemirror_mode": {
    "name": "ipython",
    "version": 3
   },
   "file_extension": ".py",
   "mimetype": "text/x-python",
   "name": "python",
   "nbconvert_exporter": "python",
   "pygments_lexer": "ipython3",
   "version": "3.9.7"
  }
 },
 "nbformat": 4,
 "nbformat_minor": 5
}
